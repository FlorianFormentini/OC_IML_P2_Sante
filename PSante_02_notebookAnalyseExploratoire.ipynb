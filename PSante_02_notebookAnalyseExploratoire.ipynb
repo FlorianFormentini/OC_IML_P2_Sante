{
 "cells": [
  {
   "cell_type": "markdown",
   "source": [
    "# Projet 2 - 02 : EDA Notebook"
   ],
   "metadata": {}
  },
  {
   "cell_type": "code",
   "execution_count": 1,
   "source": [
    "import numpy as np\r\n",
    "import pandas as pd\r\n",
    "import matplotlib.pyplot as plt\r\n",
    "import seaborn as sns\r\n",
    "import missingno as msno\r\n",
    "\r\n",
    "plt.style.use('fivethirtyeight')\r\n",
    "plt.rcParams.update({'font.size': 14})\r\n",
    "\r\n",
    "pd.set_option('display.float_format', lambda x: f'{x}.3f')\r\n",
    "pd.set_option('display.max_rows', 100)\r\n",
    "pd.set_option('display.max_columns', 200)\r\n",
    "sns.set()"
   ],
   "outputs": [],
   "metadata": {}
  },
  {
   "cell_type": "markdown",
   "source": [
    "## Data visualization"
   ],
   "metadata": {}
  },
  {
   "cell_type": "code",
   "execution_count": 2,
   "source": [
    "data = pd.read_csv('cleaned_data.csv', sep='\\t', low_memory=False)\r\n",
    "print(\"{} rows / {} columns\".format(data.shape[0], data.shape[1]))\r\n",
    "data.head()"
   ],
   "outputs": [
    {
     "output_type": "stream",
     "name": "stdout",
     "text": [
      "181861 rows / 30 columns\n"
     ]
    },
    {
     "output_type": "execute_result",
     "data": {
      "text/html": [
       "<div>\n",
       "<style scoped>\n",
       "    .dataframe tbody tr th:only-of-type {\n",
       "        vertical-align: middle;\n",
       "    }\n",
       "\n",
       "    .dataframe tbody tr th {\n",
       "        vertical-align: top;\n",
       "    }\n",
       "\n",
       "    .dataframe thead th {\n",
       "        text-align: right;\n",
       "    }\n",
       "</style>\n",
       "<table border=\"1\" class=\"dataframe\">\n",
       "  <thead>\n",
       "    <tr style=\"text-align: right;\">\n",
       "      <th></th>\n",
       "      <th>code</th>\n",
       "      <th>created_datetime</th>\n",
       "      <th>last_modified_datetime</th>\n",
       "      <th>product_name</th>\n",
       "      <th>quantity</th>\n",
       "      <th>brands</th>\n",
       "      <th>categories_fr</th>\n",
       "      <th>labels_fr</th>\n",
       "      <th>countries_fr</th>\n",
       "      <th>ingredients_text</th>\n",
       "      <th>serving_size</th>\n",
       "      <th>serving_quantity</th>\n",
       "      <th>additives_n</th>\n",
       "      <th>additives_fr</th>\n",
       "      <th>nutriscore_grade</th>\n",
       "      <th>nova_group</th>\n",
       "      <th>pnns_groups_1</th>\n",
       "      <th>pnns_groups_2</th>\n",
       "      <th>main_category_fr</th>\n",
       "      <th>energy_kcal_100g</th>\n",
       "      <th>energy_100g</th>\n",
       "      <th>fat_100g</th>\n",
       "      <th>saturated_fat_100g</th>\n",
       "      <th>carbohydrates_100g</th>\n",
       "      <th>sugars_100g</th>\n",
       "      <th>fiber_100g</th>\n",
       "      <th>proteins_100g</th>\n",
       "      <th>salt_100g</th>\n",
       "      <th>sodium_100g</th>\n",
       "      <th>nutrition_score_100g</th>\n",
       "    </tr>\n",
       "  </thead>\n",
       "  <tbody>\n",
       "    <tr>\n",
       "      <th>0</th>\n",
       "      <td>0000000001281</td>\n",
       "      <td>2018-02-05 11:40:01</td>\n",
       "      <td>2018-05-23 10:19:54</td>\n",
       "      <td>tarte noix de coco</td>\n",
       "      <td>NaN</td>\n",
       "      <td>crous resto',crous</td>\n",
       "      <td>tartes,tartes sucrées,tartes à la noix de coco</td>\n",
       "      <td>NaN</td>\n",
       "      <td>france</td>\n",
       "      <td>NaN</td>\n",
       "      <td>NaN</td>\n",
       "      <td>56.000</td>\n",
       "      <td>1.000</td>\n",
       "      <td>NaN</td>\n",
       "      <td>d</td>\n",
       "      <td>NaN</td>\n",
       "      <td>sugary snacks</td>\n",
       "      <td>biscuits and cakes</td>\n",
       "      <td>tartes à la noix de coco</td>\n",
       "      <td>381.000</td>\n",
       "      <td>1594.000</td>\n",
       "      <td>22.000</td>\n",
       "      <td>15.500</td>\n",
       "      <td>27.300</td>\n",
       "      <td>21.900</td>\n",
       "      <td>4.400</td>\n",
       "      <td>4.600</td>\n",
       "      <td>0.100</td>\n",
       "      <td>0.040</td>\n",
       "      <td>14.000</td>\n",
       "    </tr>\n",
       "    <tr>\n",
       "      <th>1</th>\n",
       "      <td>0000000001885</td>\n",
       "      <td>2017-11-20 12:18:57</td>\n",
       "      <td>2018-02-08 21:48:11</td>\n",
       "      <td>compote de poire</td>\n",
       "      <td>NaN</td>\n",
       "      <td>crous</td>\n",
       "      <td>aliments et boissons à base de végétaux,alimen...</td>\n",
       "      <td>NaN</td>\n",
       "      <td>france</td>\n",
       "      <td>NaN</td>\n",
       "      <td>NaN</td>\n",
       "      <td>56.000</td>\n",
       "      <td>1.000</td>\n",
       "      <td>NaN</td>\n",
       "      <td>a</td>\n",
       "      <td>NaN</td>\n",
       "      <td>fruits and vegetables</td>\n",
       "      <td>fruits</td>\n",
       "      <td>compotes de poire</td>\n",
       "      <td>157.000</td>\n",
       "      <td>657.000</td>\n",
       "      <td>0.000</td>\n",
       "      <td>0.000</td>\n",
       "      <td>36.000</td>\n",
       "      <td>27.000</td>\n",
       "      <td>3.600</td>\n",
       "      <td>0.600</td>\n",
       "      <td>0.000</td>\n",
       "      <td>0.000</td>\n",
       "      <td>-2.000</td>\n",
       "    </tr>\n",
       "    <tr>\n",
       "      <th>2</th>\n",
       "      <td>0000000005470</td>\n",
       "      <td>2017-11-27 10:34:20</td>\n",
       "      <td>2019-02-14 21:41:58</td>\n",
       "      <td>baguette bressan</td>\n",
       "      <td>1</td>\n",
       "      <td>crousresto'</td>\n",
       "      <td>aliments et boissons à base de végétaux,alimen...</td>\n",
       "      <td>NaN</td>\n",
       "      <td>france</td>\n",
       "      <td>bâguette bressan pain baguette 46,2%,' farine ...</td>\n",
       "      <td>NaN</td>\n",
       "      <td>56.000</td>\n",
       "      <td>3.000</td>\n",
       "      <td>e14xx - amidons modifiés,e262 - acétates de so...</td>\n",
       "      <td>a</td>\n",
       "      <td>4.000</td>\n",
       "      <td>cereals and potatoes</td>\n",
       "      <td>bread</td>\n",
       "      <td>baguettes</td>\n",
       "      <td>160.000</td>\n",
       "      <td>669.000</td>\n",
       "      <td>2.200</td>\n",
       "      <td>0.500</td>\n",
       "      <td>25.200</td>\n",
       "      <td>0.600</td>\n",
       "      <td>1.600</td>\n",
       "      <td>9.500</td>\n",
       "      <td>0.358</td>\n",
       "      <td>0.143</td>\n",
       "      <td>-4.000</td>\n",
       "    </tr>\n",
       "    <tr>\n",
       "      <th>3</th>\n",
       "      <td>0000001938067</td>\n",
       "      <td>2017-01-15 17:32:08</td>\n",
       "      <td>2018-12-30 17:08:34</td>\n",
       "      <td>chaussons tressés aux pommes</td>\n",
       "      <td>1.200 kg</td>\n",
       "      <td>kirkland signature</td>\n",
       "      <td>snacks,snacks sucrés,biscuits et gâteaux,vienn...</td>\n",
       "      <td>NaN</td>\n",
       "      <td>canada</td>\n",
       "      <td>pâte (farine, margarines d'huile de palme et d...</td>\n",
       "      <td>150 g / 1 chausson</td>\n",
       "      <td>150.000</td>\n",
       "      <td>3.000</td>\n",
       "      <td>e202 - sorbate de potassium,e211 - benzoate de...</td>\n",
       "      <td>c</td>\n",
       "      <td>4.000</td>\n",
       "      <td>sugary-snacks</td>\n",
       "      <td>pastries</td>\n",
       "      <td>chaussons aux pommes</td>\n",
       "      <td>260.000</td>\n",
       "      <td>1090.000</td>\n",
       "      <td>10.700</td>\n",
       "      <td>2.000</td>\n",
       "      <td>38.700</td>\n",
       "      <td>24.700</td>\n",
       "      <td>2.000</td>\n",
       "      <td>3.330</td>\n",
       "      <td>0.647</td>\n",
       "      <td>0.259</td>\n",
       "      <td>9.000</td>\n",
       "    </tr>\n",
       "    <tr>\n",
       "      <th>4</th>\n",
       "      <td>0000004302544</td>\n",
       "      <td>2017-03-02 14:28:16</td>\n",
       "      <td>2017-03-02 14:41:27</td>\n",
       "      <td>pain burger artisan</td>\n",
       "      <td>1.008 kg / 12 pain</td>\n",
       "      <td>kirkland signature</td>\n",
       "      <td>boulange</td>\n",
       "      <td>NaN</td>\n",
       "      <td>canada</td>\n",
       "      <td>ingrédients : farine, eau, sel, levure, orge m...</td>\n",
       "      <td>90 g / 1 pain</td>\n",
       "      <td>90.000</td>\n",
       "      <td>0.000</td>\n",
       "      <td>NaN</td>\n",
       "      <td>b</td>\n",
       "      <td>3.000</td>\n",
       "      <td>unknown</td>\n",
       "      <td>unknown</td>\n",
       "      <td>boulange</td>\n",
       "      <td>278.000</td>\n",
       "      <td>1160.000</td>\n",
       "      <td>1.110</td>\n",
       "      <td>0.333</td>\n",
       "      <td>53.300</td>\n",
       "      <td>1.110</td>\n",
       "      <td>2.220</td>\n",
       "      <td>10.000</td>\n",
       "      <td>1.520</td>\n",
       "      <td>0.610</td>\n",
       "      <td>2.000</td>\n",
       "    </tr>\n",
       "  </tbody>\n",
       "</table>\n",
       "</div>"
      ],
      "text/plain": [
       "            code     created_datetime last_modified_datetime  \\\n",
       "0  0000000001281  2018-02-05 11:40:01    2018-05-23 10:19:54   \n",
       "1  0000000001885  2017-11-20 12:18:57    2018-02-08 21:48:11   \n",
       "2  0000000005470  2017-11-27 10:34:20    2019-02-14 21:41:58   \n",
       "3  0000001938067  2017-01-15 17:32:08    2018-12-30 17:08:34   \n",
       "4  0000004302544  2017-03-02 14:28:16    2017-03-02 14:41:27   \n",
       "\n",
       "                   product_name            quantity              brands  \\\n",
       "0            tarte noix de coco                 NaN  crous resto',crous   \n",
       "1              compote de poire                 NaN               crous   \n",
       "2              baguette bressan                   1         crousresto'   \n",
       "3  chaussons tressés aux pommes            1.200 kg  kirkland signature   \n",
       "4           pain burger artisan  1.008 kg / 12 pain  kirkland signature   \n",
       "\n",
       "                                       categories_fr labels_fr countries_fr  \\\n",
       "0     tartes,tartes sucrées,tartes à la noix de coco       NaN       france   \n",
       "1  aliments et boissons à base de végétaux,alimen...       NaN       france   \n",
       "2  aliments et boissons à base de végétaux,alimen...       NaN       france   \n",
       "3  snacks,snacks sucrés,biscuits et gâteaux,vienn...       NaN       canada   \n",
       "4                                           boulange       NaN       canada   \n",
       "\n",
       "                                    ingredients_text        serving_size  \\\n",
       "0                                                NaN                 NaN   \n",
       "1                                                NaN                 NaN   \n",
       "2  bâguette bressan pain baguette 46,2%,' farine ...                 NaN   \n",
       "3  pâte (farine, margarines d'huile de palme et d...  150 g / 1 chausson   \n",
       "4  ingrédients : farine, eau, sel, levure, orge m...       90 g / 1 pain   \n",
       "\n",
       "   serving_quantity  additives_n  \\\n",
       "0            56.000        1.000   \n",
       "1            56.000        1.000   \n",
       "2            56.000        3.000   \n",
       "3           150.000        3.000   \n",
       "4            90.000        0.000   \n",
       "\n",
       "                                        additives_fr nutriscore_grade  \\\n",
       "0                                                NaN                d   \n",
       "1                                                NaN                a   \n",
       "2  e14xx - amidons modifiés,e262 - acétates de so...                a   \n",
       "3  e202 - sorbate de potassium,e211 - benzoate de...                c   \n",
       "4                                                NaN                b   \n",
       "\n",
       "   nova_group          pnns_groups_1       pnns_groups_2  \\\n",
       "0         NaN          sugary snacks  biscuits and cakes   \n",
       "1         NaN  fruits and vegetables              fruits   \n",
       "2       4.000   cereals and potatoes               bread   \n",
       "3       4.000          sugary-snacks            pastries   \n",
       "4       3.000                unknown             unknown   \n",
       "\n",
       "           main_category_fr  energy_kcal_100g  energy_100g  fat_100g  \\\n",
       "0  tartes à la noix de coco           381.000     1594.000    22.000   \n",
       "1         compotes de poire           157.000      657.000     0.000   \n",
       "2                 baguettes           160.000      669.000     2.200   \n",
       "3      chaussons aux pommes           260.000     1090.000    10.700   \n",
       "4                  boulange           278.000     1160.000     1.110   \n",
       "\n",
       "   saturated_fat_100g  carbohydrates_100g  sugars_100g  fiber_100g  \\\n",
       "0              15.500              27.300       21.900       4.400   \n",
       "1               0.000              36.000       27.000       3.600   \n",
       "2               0.500              25.200        0.600       1.600   \n",
       "3               2.000              38.700       24.700       2.000   \n",
       "4               0.333              53.300        1.110       2.220   \n",
       "\n",
       "   proteins_100g  salt_100g  sodium_100g  nutrition_score_100g  \n",
       "0          4.600      0.100        0.040                14.000  \n",
       "1          0.600      0.000        0.000                -2.000  \n",
       "2          9.500      0.358        0.143                -4.000  \n",
       "3          3.330      0.647        0.259                 9.000  \n",
       "4         10.000      1.520        0.610                 2.000  "
      ]
     },
     "metadata": {},
     "execution_count": 2
    }
   ],
   "metadata": {}
  },
  {
   "cell_type": "code",
   "execution_count": 3,
   "source": [
    "data.set_index('code', inplace=True)"
   ],
   "outputs": [],
   "metadata": {}
  },
  {
   "cell_type": "code",
   "execution_count": 4,
   "source": [
    "data.dtypes"
   ],
   "outputs": [
    {
     "output_type": "execute_result",
     "data": {
      "text/plain": [
       "created_datetime           object\n",
       "last_modified_datetime     object\n",
       "product_name               object\n",
       "quantity                   object\n",
       "brands                     object\n",
       "categories_fr              object\n",
       "labels_fr                  object\n",
       "countries_fr               object\n",
       "ingredients_text           object\n",
       "serving_size               object\n",
       "serving_quantity          float64\n",
       "additives_n               float64\n",
       "additives_fr               object\n",
       "nutriscore_grade           object\n",
       "nova_group                float64\n",
       "pnns_groups_1              object\n",
       "pnns_groups_2              object\n",
       "main_category_fr           object\n",
       "energy_kcal_100g          float64\n",
       "energy_100g               float64\n",
       "fat_100g                  float64\n",
       "saturated_fat_100g        float64\n",
       "carbohydrates_100g        float64\n",
       "sugars_100g               float64\n",
       "fiber_100g                float64\n",
       "proteins_100g             float64\n",
       "salt_100g                 float64\n",
       "sodium_100g               float64\n",
       "nutrition_score_100g      float64\n",
       "dtype: object"
      ]
     },
     "metadata": {},
     "execution_count": 4
    }
   ],
   "metadata": {}
  },
  {
   "cell_type": "code",
   "execution_count": 5,
   "source": [
    "data['main_category_fr'].dropna().unique().shape[0]"
   ],
   "outputs": [
    {
     "output_type": "execute_result",
     "data": {
      "text/plain": [
       "7636"
      ]
     },
     "metadata": {},
     "execution_count": 5
    }
   ],
   "metadata": {}
  },
  {
   "cell_type": "code",
   "execution_count": 6,
   "source": [
    "# parsing datetime\r\n",
    "data['created_datetime'] = pd.to_datetime(data['created_datetime'], errors='coerce')\r\n",
    "data['last_modified_datetime'] = pd.to_datetime(data['last_modified_datetime'], errors='coerce')"
   ],
   "outputs": [],
   "metadata": {}
  },
  {
   "cell_type": "code",
   "execution_count": 7,
   "source": [
    "# nova_group = categorical variable\r\n",
    "data['nova_group'] = data['nova_group'].astype(str)"
   ],
   "outputs": [],
   "metadata": {}
  },
  {
   "cell_type": "code",
   "execution_count": 8,
   "source": [
    "msno.matrix(data)"
   ],
   "outputs": [
    {
     "output_type": "execute_result",
     "data": {
      "text/plain": [
       "<matplotlib.axes._subplots.AxesSubplot at 0x2049853d9d0>"
      ]
     },
     "metadata": {},
     "execution_count": 8
    },
    {
     "output_type": "display_data",
     "data": {
      "image/png": "[encoded data removed]",
      "text/plain": [
       "<Figure size 1800x720 with 2 Axes>"
      ]
     },
     "metadata": {}
    }
   ],
   "metadata": {}
  },
  {
   "cell_type": "markdown",
   "source": [
    "### Numeric features distributions"
   ],
   "metadata": {}
  },
  {
   "cell_type": "code",
   "execution_count": 9,
   "source": [
    "data.describe()"
   ],
   "outputs": [
    {
     "output_type": "execute_result",
     "data": {
      "text/html": [
       "<div>\n",
       "<style scoped>\n",
       "    .dataframe tbody tr th:only-of-type {\n",
       "        vertical-align: middle;\n",
       "    }\n",
       "\n",
       "    .dataframe tbody tr th {\n",
       "        vertical-align: top;\n",
       "    }\n",
       "\n",
       "    .dataframe thead th {\n",
       "        text-align: right;\n",
       "    }\n",
       "</style>\n",
       "<table border=\"1\" class=\"dataframe\">\n",
       "  <thead>\n",
       "    <tr style=\"text-align: right;\">\n",
       "      <th></th>\n",
       "      <th>serving_quantity</th>\n",
       "      <th>additives_n</th>\n",
       "      <th>energy_kcal_100g</th>\n",
       "      <th>energy_100g</th>\n",
       "      <th>fat_100g</th>\n",
       "      <th>saturated_fat_100g</th>\n",
       "      <th>carbohydrates_100g</th>\n",
       "      <th>sugars_100g</th>\n",
       "      <th>fiber_100g</th>\n",
       "      <th>proteins_100g</th>\n",
       "      <th>salt_100g</th>\n",
       "      <th>sodium_100g</th>\n",
       "      <th>nutrition_score_100g</th>\n",
       "    </tr>\n",
       "  </thead>\n",
       "  <tbody>\n",
       "    <tr>\n",
       "      <th>count</th>\n",
       "      <td>181861.000</td>\n",
       "      <td>181861.000</td>\n",
       "      <td>181861.000</td>\n",
       "      <td>181861.000</td>\n",
       "      <td>181861.000</td>\n",
       "      <td>181861.000</td>\n",
       "      <td>181861.000</td>\n",
       "      <td>181861.000</td>\n",
       "      <td>181861.000</td>\n",
       "      <td>181861.000</td>\n",
       "      <td>181861.000</td>\n",
       "      <td>181861.000</td>\n",
       "      <td>181861.000</td>\n",
       "    </tr>\n",
       "    <tr>\n",
       "      <th>mean</th>\n",
       "      <td>69.019</td>\n",
       "      <td>1.611</td>\n",
       "      <td>243.560</td>\n",
       "      <td>1018.306</td>\n",
       "      <td>9.923</td>\n",
       "      <td>3.013</td>\n",
       "      <td>31.772</td>\n",
       "      <td>11.070</td>\n",
       "      <td>2.209</td>\n",
       "      <td>6.754</td>\n",
       "      <td>0.779</td>\n",
       "      <td>0.312</td>\n",
       "      <td>6.483</td>\n",
       "    </tr>\n",
       "    <tr>\n",
       "      <th>std</th>\n",
       "      <td>44.603</td>\n",
       "      <td>1.888</td>\n",
       "      <td>166.129</td>\n",
       "      <td>694.899</td>\n",
       "      <td>11.331</td>\n",
       "      <td>4.092</td>\n",
       "      <td>26.694</td>\n",
       "      <td>13.498</td>\n",
       "      <td>2.257</td>\n",
       "      <td>5.725</td>\n",
       "      <td>0.740</td>\n",
       "      <td>0.296</td>\n",
       "      <td>8.687</td>\n",
       "    </tr>\n",
       "    <tr>\n",
       "      <th>min</th>\n",
       "      <td>0.000</td>\n",
       "      <td>0.000</td>\n",
       "      <td>0.000</td>\n",
       "      <td>0.000</td>\n",
       "      <td>0.000</td>\n",
       "      <td>0.000</td>\n",
       "      <td>0.000</td>\n",
       "      <td>0.000</td>\n",
       "      <td>0.000</td>\n",
       "      <td>0.000</td>\n",
       "      <td>0.000</td>\n",
       "      <td>0.000</td>\n",
       "      <td>-15.000</td>\n",
       "    </tr>\n",
       "    <tr>\n",
       "      <th>25%</th>\n",
       "      <td>33.000</td>\n",
       "      <td>0.000</td>\n",
       "      <td>89.000</td>\n",
       "      <td>369.000</td>\n",
       "      <td>0.700</td>\n",
       "      <td>0.000</td>\n",
       "      <td>7.600</td>\n",
       "      <td>1.410</td>\n",
       "      <td>0.000</td>\n",
       "      <td>2.000</td>\n",
       "      <td>0.100</td>\n",
       "      <td>0.040</td>\n",
       "      <td>-1.000</td>\n",
       "    </tr>\n",
       "    <tr>\n",
       "      <th>50%</th>\n",
       "      <td>56.000</td>\n",
       "      <td>1.000</td>\n",
       "      <td>226.000</td>\n",
       "      <td>946.000</td>\n",
       "      <td>5.000</td>\n",
       "      <td>1.000</td>\n",
       "      <td>22.500</td>\n",
       "      <td>4.500</td>\n",
       "      <td>1.700</td>\n",
       "      <td>5.880</td>\n",
       "      <td>0.640</td>\n",
       "      <td>0.256</td>\n",
       "      <td>5.000</td>\n",
       "    </tr>\n",
       "    <tr>\n",
       "      <th>75%</th>\n",
       "      <td>95.000</td>\n",
       "      <td>3.000</td>\n",
       "      <td>379.000</td>\n",
       "      <td>1586.000</td>\n",
       "      <td>16.670</td>\n",
       "      <td>4.640</td>\n",
       "      <td>56.760</td>\n",
       "      <td>16.810</td>\n",
       "      <td>3.600</td>\n",
       "      <td>10.000</td>\n",
       "      <td>1.210</td>\n",
       "      <td>0.484</td>\n",
       "      <td>13.000</td>\n",
       "    </tr>\n",
       "    <tr>\n",
       "      <th>max</th>\n",
       "      <td>227.100</td>\n",
       "      <td>7.000</td>\n",
       "      <td>868.000</td>\n",
       "      <td>3632.000</td>\n",
       "      <td>51.000</td>\n",
       "      <td>16.670</td>\n",
       "      <td>100.000</td>\n",
       "      <td>53.400</td>\n",
       "      <td>9.000</td>\n",
       "      <td>23.800</td>\n",
       "      <td>3.067</td>\n",
       "      <td>1.227</td>\n",
       "      <td>36.000</td>\n",
       "    </tr>\n",
       "  </tbody>\n",
       "</table>\n",
       "</div>"
      ],
      "text/plain": [
       "       serving_quantity  additives_n  energy_kcal_100g  energy_100g  \\\n",
       "count        181861.000   181861.000        181861.000   181861.000   \n",
       "mean             69.019        1.611           243.560     1018.306   \n",
       "std              44.603        1.888           166.129      694.899   \n",
       "min               0.000        0.000             0.000        0.000   \n",
       "25%              33.000        0.000            89.000      369.000   \n",
       "50%              56.000        1.000           226.000      946.000   \n",
       "75%              95.000        3.000           379.000     1586.000   \n",
       "max             227.100        7.000           868.000     3632.000   \n",
       "\n",
       "        fat_100g  saturated_fat_100g  carbohydrates_100g  sugars_100g  \\\n",
       "count 181861.000          181861.000          181861.000   181861.000   \n",
       "mean       9.923               3.013              31.772       11.070   \n",
       "std       11.331               4.092              26.694       13.498   \n",
       "min        0.000               0.000               0.000        0.000   \n",
       "25%        0.700               0.000               7.600        1.410   \n",
       "50%        5.000               1.000              22.500        4.500   \n",
       "75%       16.670               4.640              56.760       16.810   \n",
       "max       51.000              16.670             100.000       53.400   \n",
       "\n",
       "       fiber_100g  proteins_100g  salt_100g  sodium_100g  nutrition_score_100g  \n",
       "count  181861.000     181861.000 181861.000   181861.000            181861.000  \n",
       "mean        2.209          6.754      0.779        0.312                 6.483  \n",
       "std         2.257          5.725      0.740        0.296                 8.687  \n",
       "min         0.000          0.000      0.000        0.000               -15.000  \n",
       "25%         0.000          2.000      0.100        0.040                -1.000  \n",
       "50%         1.700          5.880      0.640        0.256                 5.000  \n",
       "75%         3.600         10.000      1.210        0.484                13.000  \n",
       "max         9.000         23.800      3.067        1.227                36.000  "
      ]
     },
     "metadata": {},
     "execution_count": 9
    }
   ],
   "metadata": {}
  },
  {
   "cell_type": "code",
   "execution_count": null,
   "source": [
    "data.hist(figsize=(35,10), layout=(3,5))\r\n",
    "plt.show()"
   ],
   "outputs": [],
   "metadata": {}
  },
  {
   "cell_type": "markdown",
   "source": [
    "## Univariate analyzes"
   ],
   "metadata": {}
  },
  {
   "cell_type": "markdown",
   "source": [
    "In this section I will independently look at each variable that I find important to realize my application.  \n",
    "I will especially dissociate the lists contained in some columns in order to locate the most frequent elements"
   ],
   "metadata": {}
  },
  {
   "cell_type": "markdown",
   "source": [
    "### Most common additives"
   ],
   "metadata": {}
  },
  {
   "cell_type": "markdown",
   "source": [
    "Proportion of foods with additives"
   ],
   "metadata": {}
  },
  {
   "cell_type": "code",
   "execution_count": null,
   "source": [
    "contains_additives = data[data['additives_n'] > 0]\r\n",
    "no_additives = data[data['additives_n'] == 0]\r\n",
    "\r\n",
    "labels = 'Contains Additives', 'No Additives'\r\n",
    "sizes = [len(contains_additives), len(no_additives)]\r\n",
    "plt.pie(sizes, explode=(0.1, 0), labels=labels, colors=['lightcoral', 'lightskyblue'], autopct='%1.1f%%', shadow=True, startangle=140)\r\n",
    "plt.axis('equal')\r\n",
    "plt.show()"
   ],
   "outputs": [],
   "metadata": {}
  },
  {
   "cell_type": "code",
   "execution_count": null,
   "source": [
    "# Split additives lists\r\n",
    "exp_additives = data['additives_fr'].str.split(',').apply(Series, 1).stack()\r\n",
    "exp_additives.index = exp_additives.index.droplevel(-1)\r\n",
    "exp_additives.name = 'additives_exp'\r\n",
    "# create new df with a row for each additives\r\n",
    "data_exp_additives = data.join(exp_additives)\r\n",
    "print('{:,} unique additives'.format(len(data_exp_additives['additives_exp'].value_counts())))"
   ],
   "outputs": [],
   "metadata": {}
  },
  {
   "cell_type": "code",
   "execution_count": null,
   "source": [
    "additives_top_10 = data_exp_additives['additives_exp'].value_counts().head(10).sort_values()\r\n",
    "additives_top_10.plot(kind='barh', figsize=(12,7))\r\n",
    "plt.xlabel('Frequency')\r\n",
    "plt.ylabel('Additives')\r\n",
    "plt.title('The 10 most used Additives', fontsize=16)\r\n",
    "plt.show()"
   ],
   "outputs": [],
   "metadata": {}
  },
  {
   "cell_type": "markdown",
   "source": [
    "### Most common ingredients"
   ],
   "metadata": {}
  },
  {
   "cell_type": "code",
   "execution_count": null,
   "source": [
    "# Split ingredients lists\r\n",
    "exp_ingredients = data['ingredients_text'].str.split(',').apply(Series, 1).stack()\r\n",
    "exp_ingredients.index = exp_ingredients.index.droplevel(-1)\r\n",
    "exp_ingredients.name = 'ingredients_exp'\r\n",
    "# create new df with a row for each additives\r\n",
    "data_exp_ingredients = data.join(exp_ingredients)\r\n",
    "print('{:,} unique ingredients'.format(len(data_exp_ingredients['ingredients_exp'].value_counts())))"
   ],
   "outputs": [],
   "metadata": {}
  },
  {
   "cell_type": "code",
   "execution_count": null,
   "source": [
    "ingredients_top_10 = data_exp_ingredients['ingredients_exp'].value_counts().head(10).sort_values()\r\n",
    "ingredients_top_10.plot(kind='barh', figsize=(12,5))\r\n",
    "plt.xlabel('Frequency')\r\n",
    "plt.ylabel('Ingredients')\r\n",
    "plt.title('The 10 most used Ingredients', fontsize=16)\r\n",
    "plt.show()"
   ],
   "outputs": [],
   "metadata": {}
  },
  {
   "cell_type": "markdown",
   "source": [
    "### Most common categories"
   ],
   "metadata": {}
  },
  {
   "cell_type": "code",
   "execution_count": null,
   "source": [
    "data['main_category_fr'].dropna().unique().shape[0]"
   ],
   "outputs": [],
   "metadata": {}
  },
  {
   "cell_type": "code",
   "execution_count": null,
   "source": [
    "# Split categories lists\r\n",
    "exp_categories = data['categories_fr'].str.split(',').apply(Series, 1).stack()\r\n",
    "exp_categories.index = exp_categories.index.droplevel(-1)\r\n",
    "exp_categories.name = 'categories_exp'\r\n",
    "data_exp_categories = data.join(exp_categories)\r\n"
   ],
   "outputs": [],
   "metadata": {}
  },
  {
   "cell_type": "code",
   "execution_count": null,
   "source": [
    "print('{} unique categories'.format(len(data_exp_categories['categories_exp'].value_counts())))"
   ],
   "outputs": [],
   "metadata": {}
  },
  {
   "cell_type": "code",
   "execution_count": null,
   "source": [
    "categories_top_10 = data_exp_categories['categories_exp'].value_counts().head(10).sort_values()\r\n",
    "categories_top_10.plot(kind='barh', figsize=(12,5))\r\n",
    "plt.xlabel('Frequency')\r\n",
    "plt.ylabel('Categories')\r\n",
    "plt.title('The 10 most common Categories', fontsize=16)\r\n",
    "plt.show()"
   ],
   "outputs": [],
   "metadata": {}
  },
  {
   "cell_type": "markdown",
   "source": [
    "### Most common countries"
   ],
   "metadata": {}
  },
  {
   "cell_type": "code",
   "execution_count": null,
   "source": [
    "# Split countries lists\r\n",
    "exp_countries = data['countries_fr'].str.split(',').apply(Series, 1).stack()\r\n",
    "exp_countries.index = exp_countries.index.droplevel(-1)\r\n",
    "exp_countries.name = 'countries_exp'\r\n",
    "data_exp_countries = data.join(exp_countries)\r\n",
    "print('{:,} unique countries'.format(data_exp_countries['countries_exp'].dropna().unique().shape[0]))"
   ],
   "outputs": [],
   "metadata": {}
  },
  {
   "cell_type": "code",
   "execution_count": null,
   "source": [
    "# Excluding Countries that appear less then 10 times in the data\r\n",
    "countries_filtered = data_exp_countries.groupby('countries_exp').filter(lambda x: len(x) >= 10)\r\n",
    "print('{} unique countries'.format(len(countries_filtered['countries_exp'].value_counts())))"
   ],
   "outputs": [],
   "metadata": {}
  },
  {
   "cell_type": "code",
   "execution_count": null,
   "source": [
    "countries_top_5 = countries_filtered['countries_exp'].value_counts().head(5).sort_values()\r\n",
    "countries_top_5.plot(kind='barh', figsize=(10,5))\r\n",
    "plt.xlabel('Frequency')\r\n",
    "plt.ylabel('Countries')\r\n",
    "plt.title('The 5 most common Countries', fontsize=16)\r\n",
    "plt.show()"
   ],
   "outputs": [],
   "metadata": {}
  },
  {
   "cell_type": "code",
   "execution_count": null,
   "source": [
    "print('Products available in France :', data_exp_countries[data_exp_countries['countries_exp']=='france'].shape[0])"
   ],
   "outputs": [],
   "metadata": {}
  },
  {
   "cell_type": "markdown",
   "source": [
    "## Bivariate Analyses"
   ],
   "metadata": {}
  },
  {
   "cell_type": "markdown",
   "source": [
    "### Categories Analysis"
   ],
   "metadata": {}
  },
  {
   "cell_type": "markdown",
   "source": [
    "In this section, I will analyze the categories of products to identify the most interesting in terms of nutritional intake.  \n",
    "Then I will identify the most healthy and unhealthy"
   ],
   "metadata": {}
  },
  {
   "cell_type": "markdown",
   "source": [
    "**Excluding Categories that appear less then 10 times in the data**"
   ],
   "metadata": {}
  },
  {
   "cell_type": "code",
   "execution_count": null,
   "source": [
    "categories_filtered = data_exp_categories.groupby('categories_exp').filter(lambda x: len(x) >= 10)\r\n",
    "print('{} unique categories'.format(len(categories_filtered['categories_exp'].value_counts())))"
   ],
   "outputs": [],
   "metadata": {}
  },
  {
   "cell_type": "code",
   "execution_count": null,
   "source": [
    "# We group the dataframe by their categories\r\n",
    "categories_grouped = categories_filtered.groupby('categories_exp')\r\n",
    "categories_grouped.describe()"
   ],
   "outputs": [],
   "metadata": {}
  },
  {
   "cell_type": "markdown",
   "source": [
    "#### Nutrients intake"
   ],
   "metadata": {}
  },
  {
   "cell_type": "markdown",
   "source": [
    "**Fat**"
   ],
   "metadata": {}
  },
  {
   "cell_type": "code",
   "execution_count": null,
   "source": [
    "fat_top_ten = categories_grouped['fat_100g'].describe().sort_values(by='mean',ascending=False).head(10)\r\n",
    "fat_top_ten"
   ],
   "outputs": [],
   "metadata": {
    "scrolled": true
   }
  },
  {
   "cell_type": "code",
   "execution_count": null,
   "source": [
    "index = fat_top_ten.index\r\n",
    "mean = fat_top_ten['mean'] \r\n",
    "std = fat_top_ten['std']\r\n",
    "\r\n",
    "plt.figure(figsize=(7,7))\r\n",
    "x_pos = [i for i, _ in enumerate(index)]\r\n",
    "plt.bar(x_pos, mean, yerr=std)\r\n",
    "plt.xlabel(\"Categories\", fontsize=14)\r\n",
    "plt.ylabel(\"Mean Fat Content per 100g\", fontsize=14)\r\n",
    "plt.title(\"Categories with the highest average Fat Content / 100g\", fontsize=16)\r\n",
    "plt.xticks(x_pos, index, rotation=30, horizontalalignment=\"right\")\r\n",
    "\r\n",
    "plt.show()"
   ],
   "outputs": [],
   "metadata": {}
  },
  {
   "cell_type": "markdown",
   "source": [
    "**Proteins**"
   ],
   "metadata": {}
  },
  {
   "cell_type": "code",
   "execution_count": null,
   "source": [
    "protein_top_ten = categories_grouped['proteins_100g'].describe().sort_values(by='mean',ascending=False).head(10)\r\n",
    "protein_top_ten"
   ],
   "outputs": [],
   "metadata": {}
  },
  {
   "cell_type": "code",
   "execution_count": null,
   "source": [
    "index = protein_top_ten.index\r\n",
    "mean = protein_top_ten['mean'] \r\n",
    "std = protein_top_ten['std']\r\n",
    "\r\n",
    "plt.figure(figsize=(7,7))\r\n",
    "x_pos = [i for i, _ in enumerate(index)]\r\n",
    "plt.figsize=(12,7)\r\n",
    "plt.bar(x_pos, mean, yerr=std)\r\n",
    "plt.xlabel(\"Categories\", fontsize=14)\r\n",
    "plt.ylabel(\"Mean Protein Content per 100g\", fontsize=14)\r\n",
    "plt.title(\"Categories with the highest average Protein Content / 100g\", fontsize=16)\r\n",
    "plt.xticks(x_pos, index, rotation=30, horizontalalignment=\"right\")\r\n",
    "\r\n",
    "plt.show()"
   ],
   "outputs": [],
   "metadata": {}
  },
  {
   "cell_type": "markdown",
   "source": [
    "**Carbohydrates**"
   ],
   "metadata": {}
  },
  {
   "cell_type": "code",
   "execution_count": null,
   "source": [
    "carbs_top_ten = categories_grouped['carbohydrates_100g'].describe().sort_values(by='mean',ascending=False).head(10)\r\n",
    "carbs_top_ten"
   ],
   "outputs": [],
   "metadata": {}
  },
  {
   "cell_type": "code",
   "execution_count": null,
   "source": [
    "index = carbs_top_ten.index\r\n",
    "mean = carbs_top_ten['mean'] \r\n",
    "std = carbs_top_ten['std']\r\n",
    "\r\n",
    "plt.figure(figsize=(7,7))\r\n",
    "x_pos = [i for i, _ in enumerate(index)]\r\n",
    "plt.bar(x_pos, mean, yerr=std)\r\n",
    "plt.xlabel(\"Categories\", fontsize=14)\r\n",
    "plt.ylabel(\"Mean Carbohydrate Content per 100g\", fontsize=14)\r\n",
    "plt.title(\"Categories with the highest average Carbohydrate Content / 100g\", fontsize=16)\r\n",
    "plt.xticks(x_pos, index, rotation=30, horizontalalignment=\"right\")\r\n",
    "\r\n",
    "plt.show()"
   ],
   "outputs": [],
   "metadata": {}
  },
  {
   "cell_type": "markdown",
   "source": [
    "**Sugar**"
   ],
   "metadata": {}
  },
  {
   "cell_type": "code",
   "execution_count": null,
   "source": [
    "sugar_top_10 = categories_grouped['sugars_100g'].describe().sort_values(by='mean',ascending=False).head(10)\r\n",
    "sugar_top_10"
   ],
   "outputs": [],
   "metadata": {
    "scrolled": true
   }
  },
  {
   "cell_type": "code",
   "execution_count": null,
   "source": [
    "index = sugar_top_10.index\r\n",
    "mean = sugar_top_10['mean'] \r\n",
    "std = sugar_top_10['std']\r\n",
    "\r\n",
    "plt.figure(figsize=(12,7))\r\n",
    "x_pos = [i for i, _ in enumerate(index)]\r\n",
    "plt.bar(x_pos, mean, yerr=std)\r\n",
    "plt.xlabel(\"Categories\", fontsize=14)\r\n",
    "plt.ylabel(\"Mean Sugar Content per 100g\", fontsize=14)\r\n",
    "plt.title(\"The 10 Categories with the highest average Suger Content per 100g\", fontsize=16)\r\n",
    "plt.xticks(x_pos, index, rotation=30, horizontalalignment=\"right\")\r\n",
    "plt.show()"
   ],
   "outputs": [],
   "metadata": {}
  },
  {
   "cell_type": "markdown",
   "source": [
    "#### Healthiest / Unhealthiest Categories"
   ],
   "metadata": {}
  },
  {
   "cell_type": "code",
   "execution_count": null,
   "source": [
    "healthy_top_10 = categories_grouped['nutrition_score_100g'].describe().sort_values(by='mean',ascending=True).head(10)\r\n",
    "healthy_top_10"
   ],
   "outputs": [],
   "metadata": {}
  },
  {
   "cell_type": "code",
   "execution_count": null,
   "source": [
    "index = healthy_top_10.index\r\n",
    "mean = healthy_top_10['mean'] \r\n",
    "std = healthy_top_10['std']\r\n",
    "\r\n",
    "plt.figure(figsize=(7,5))\r\n",
    "x_pos = [i for i, _ in enumerate(index)]\r\n",
    "plt.bar(x_pos, mean, yerr=std)\r\n",
    "plt.xlabel(\"Categories\", fontsize=14)\r\n",
    "plt.ylabel(\"Mean Nutrition Score per 100g\", fontsize=14)\r\n",
    "plt.title(\"The 10 Healthiest Categories\", fontsize=16)\r\n",
    "plt.xticks(x_pos, index, rotation=30, horizontalalignment=\"right\")\r\n",
    "plt.gca().invert_yaxis()\r\n",
    "\r\n",
    "plt.show()"
   ],
   "outputs": [],
   "metadata": {}
  },
  {
   "cell_type": "code",
   "execution_count": null,
   "source": [
    "un_healthy_top_10 = categories_grouped['nutrition_score_100g'].describe().sort_values(by='mean',ascending=False).head(10)\r\n",
    "un_healthy_top_10"
   ],
   "outputs": [],
   "metadata": {}
  },
  {
   "cell_type": "code",
   "execution_count": null,
   "source": [
    "index = un_healthy_top_10.index\r\n",
    "mean = un_healthy_top_10['mean'] \r\n",
    "std = un_healthy_top_10['std']\r\n",
    "\r\n",
    "plt.figure(figsize=(7,5))\r\n",
    "x_pos = [i for i, _ in enumerate(index)]\r\n",
    "plt.figsize=(20,10)\r\n",
    "plt.bar(x_pos, mean, yerr=std)\r\n",
    "plt.xlabel(\"Categories\", fontsize=14)\r\n",
    "plt.ylabel(\"Mean Nutrition Score per 100g\", fontsize=14)\r\n",
    "plt.title(\"The 10 unhealthiest Categories\", fontsize=16)\r\n",
    "plt.xticks(x_pos, index, rotation=30, horizontalalignment=\"right\")\r\n",
    "\r\n",
    "plt.show()"
   ],
   "outputs": [],
   "metadata": {}
  },
  {
   "cell_type": "markdown",
   "source": [
    "### Nutrition Score Analysis"
   ],
   "metadata": {}
  },
  {
   "cell_type": "markdown",
   "source": [
    "In this section I will use the most common categorical values that I have identified previously to analyze the nutrition score.  \n",
    "(I use the most common values to be sure I have enough data to be representative)  \n",
    "Then I will do the comparison with the numeric variables"
   ],
   "metadata": {}
  },
  {
   "cell_type": "markdown",
   "source": [
    "#### Nutition score by most common additives"
   ],
   "metadata": {}
  },
  {
   "cell_type": "code",
   "execution_count": null,
   "source": [
    "additives_top_10.index[::-1]"
   ],
   "outputs": [],
   "metadata": {}
  },
  {
   "cell_type": "code",
   "execution_count": null,
   "source": [
    "additives_filtered = data_exp_additives[(data_exp_additives['additives_exp']=='e330 - acide citrique')|\r\n",
    "                                        (data_exp_additives['additives_exp']=='e322 - lécithines')|\r\n",
    "                                        (data_exp_additives['additives_exp']=='e322i - lécithine')|\r\n",
    "                                        (data_exp_additives['additives_exp']=='e500 - carbonates de sodium')|\r\n",
    "                                        (data_exp_additives['additives_exp']=='e500ii - carbonate acide de sodium')|\r\n",
    "                                        (data_exp_additives['additives_exp']=='e415 - gomme xanthane')|\r\n",
    "                                        (data_exp_additives['additives_exp']=='e412 - gomme de guar')|\r\n",
    "                                        (data_exp_additives['additives_exp']=='e407 - carraghénanes')|\r\n",
    "                                        (data_exp_additives['additives_exp']=='e202 - sorbate de potassium')|\r\n",
    "                                        (data_exp_additives['additives_exp']=='e410 - gomme de caroube')]"
   ],
   "outputs": [],
   "metadata": {}
  },
  {
   "cell_type": "code",
   "execution_count": null,
   "source": [
    "top_additives_grouped = additives_filtered.groupby('additives_exp')\r\n",
    "top_additives_grouped['nutrition_score_100g'].describe().sort_values(by='mean',ascending=True)"
   ],
   "outputs": [],
   "metadata": {}
  },
  {
   "cell_type": "code",
   "execution_count": null,
   "source": [
    "del top_additives_grouped"
   ],
   "outputs": [],
   "metadata": {}
  },
  {
   "cell_type": "code",
   "execution_count": null,
   "source": [
    "fig, ax = plt.subplots(figsize=(12,7))\r\n",
    "ax.set_title('Nutrition score for the most common additives', fontsize=16)\r\n",
    "sns.boxplot(x=\"nutrition_score_100g\", y=\"additives_exp\", \r\n",
    "            data=additives_filtered, \r\n",
    "            ax=ax, \r\n",
    "            linewidth=1.5, \r\n",
    "            showmeans=True, \r\n",
    "            meanprops={\"marker\":\"x\", \"markeredgecolor\":\"black\"})"
   ],
   "outputs": [],
   "metadata": {}
  },
  {
   "cell_type": "markdown",
   "source": [
    "#### Nutrition score by most common ingredients"
   ],
   "metadata": {}
  },
  {
   "cell_type": "code",
   "execution_count": null,
   "source": [
    "# focus on the 10 most common ingredients\r\n",
    "ingredients_top_10.index[::-1]"
   ],
   "outputs": [],
   "metadata": {}
  },
  {
   "cell_type": "code",
   "execution_count": null,
   "source": [
    "ingredients_filtered = data_exp_ingredients[(data_exp_ingredients['ingredients_exp']==' salt')|\r\n",
    "                                        (data_exp_ingredients['ingredients_exp']==' sugar')|\r\n",
    "                                        (data_exp_ingredients['ingredients_exp']==' water')|\r\n",
    "                                        (data_exp_ingredients['ingredients_exp']==' niacin')|\r\n",
    "                                        (data_exp_ingredients['ingredients_exp']==' citric acid')|\r\n",
    "                                        (data_exp_ingredients['ingredients_exp']==' riboflavin')|\r\n",
    "                                        (data_exp_ingredients['ingredients_exp']==' reduced iron')|\r\n",
    "                                        (data_exp_ingredients['ingredients_exp']==' folic acid)')|\r\n",
    "                                        (data_exp_ingredients['ingredients_exp']==' spices')|\r\n",
    "                                        (data_exp_ingredients['ingredients_exp']==' dextrose')]"
   ],
   "outputs": [],
   "metadata": {}
  },
  {
   "cell_type": "code",
   "execution_count": null,
   "source": [
    "top_ingredients_grouped = ingredients_filtered.groupby('ingredients_exp')\r\n",
    "top_ingredients_grouped['nutrition_score_100g'].describe().sort_values(by='mean',ascending=True)"
   ],
   "outputs": [],
   "metadata": {}
  },
  {
   "cell_type": "code",
   "execution_count": null,
   "source": [
    "fig, ax = plt.subplots(figsize=(12,7))\r\n",
    "ax.set_title('Nutrition score for the most common ingredients', fontsize=16)\r\n",
    "sns.boxplot(x=\"nutrition_score_100g\", y=\"ingredients_exp\", \r\n",
    "            data=ingredients_filtered, \r\n",
    "            ax=ax, \r\n",
    "            linewidth=1.5, \r\n",
    "            showmeans=True, \r\n",
    "            meanprops={\"marker\":\"x\", \"markeredgecolor\":\"black\"})"
   ],
   "outputs": [],
   "metadata": {}
  },
  {
   "cell_type": "markdown",
   "source": [
    "#### Nutrition score by most common categories"
   ],
   "metadata": {}
  },
  {
   "cell_type": "code",
   "execution_count": null,
   "source": [
    "# focus on the 10 categories with the most data\r\n",
    "categories_top_10.index[::-1]"
   ],
   "outputs": [],
   "metadata": {}
  },
  {
   "cell_type": "code",
   "execution_count": null,
   "source": [
    "categories_filtered = data_exp_categories[(data_exp_categories['categories_exp']=='aliments et boissons à base de végétaux')|\r\n",
    "                                     (data_exp_categories['categories_exp']==\"aliments d'origine végétale\")|\r\n",
    "                                     (data_exp_categories['categories_exp']=='snacks')|\r\n",
    "                                     (data_exp_categories['categories_exp']=='céréales et pommes de terre')|\r\n",
    "                                     (data_exp_categories['categories_exp']=='aliments à base de fruits et de légumes')|\r\n",
    "                                     (data_exp_categories['categories_exp']=='céréales et dérivés')|\r\n",
    "                                     (data_exp_categories['categories_exp']=='surgelés')|\r\n",
    "                                     (data_exp_categories['categories_exp']=='snacks sucrés')|\r\n",
    "                                     (data_exp_categories['categories_exp']=='biscuits et gâteaux')|\r\n",
    "                                     (data_exp_categories['categories_exp']=='epicerie')]\r\n",
    "categories_filtered['categories_exp'].value_counts()"
   ],
   "outputs": [],
   "metadata": {}
  },
  {
   "cell_type": "code",
   "execution_count": null,
   "source": [
    "top_categories_grouped = categories_filtered.groupby('categories_exp')\n",
    "top_categories_grouped['nutrition_score_100g'].describe().sort_values(by='mean',ascending=True)"
   ],
   "outputs": [],
   "metadata": {}
  },
  {
   "cell_type": "code",
   "execution_count": null,
   "source": [
    "fig, ax = plt.subplots(figsize=(12,7))\n",
    "ax.set_title('Nutrition score for the most common categories', fontsize=16)\n",
    "sns.boxplot(y=\"categories_exp\", x=\"nutrition_score_100g\", \n",
    "            data=categories_filtered, \n",
    "            ax=ax, \n",
    "            linewidth=1.5, \n",
    "            showmeans=True, \n",
    "            meanprops={\"marker\":\"x\", \"markeredgecolor\":\"black\"})"
   ],
   "outputs": [],
   "metadata": {}
  },
  {
   "cell_type": "markdown",
   "source": [
    "#### Nutrition score by most common countries"
   ],
   "metadata": {}
  },
  {
   "cell_type": "code",
   "execution_count": null,
   "source": [
    "# focus on the 5 countries with the most data\n",
    "countries_top_5.index[::-1]"
   ],
   "outputs": [],
   "metadata": {}
  },
  {
   "cell_type": "code",
   "execution_count": null,
   "source": [
    "countries_filtered = countries_filtered[(countries_filtered['countries_exp']=='états-unis')|\n",
    "                                        (countries_filtered['countries_exp']=='france')|\n",
    "                                        (countries_filtered['countries_exp']=='espagne')|\n",
    "                                        (countries_filtered['countries_exp']=='allemagne')|\n",
    "                                        (countries_filtered['countries_exp']=='suisse')]\n",
    "countries_filtered['countries_exp'].value_counts()"
   ],
   "outputs": [],
   "metadata": {}
  },
  {
   "cell_type": "code",
   "execution_count": null,
   "source": [
    "top_countries_grouped = countries_filtered.groupby('countries_exp')\n",
    "print(top_countries_grouped['nutrition_score_100g'].describe().sort_values(by='mean',ascending=True))\n",
    "del top_countries_grouped"
   ],
   "outputs": [],
   "metadata": {}
  },
  {
   "cell_type": "code",
   "execution_count": null,
   "source": [
    "fig, ax = plt.subplots(figsize=(12,7))\n",
    "ax.set_title('Nutrition score for the most common countries', fontsize=16)\n",
    "sns.boxplot(x=\"countries_exp\", y=\"nutrition_score_100g\", \n",
    "            data=countries_filtered, \n",
    "            ax=ax, \n",
    "            linewidth=1.5, \n",
    "            showmeans=True, \n",
    "            meanprops={\"marker\":\"x\", \"markeredgecolor\":\"black\"},\n",
    "            order=['suisse', 'allemagne', 'espagne', 'france', 'états-unis'])"
   ],
   "outputs": [],
   "metadata": {}
  },
  {
   "cell_type": "markdown",
   "source": [
    "#### Relationships with other num features"
   ],
   "metadata": {}
  },
  {
   "cell_type": "code",
   "execution_count": null,
   "source": [
    "data.select_dtypes(include=float).columns"
   ],
   "outputs": [],
   "metadata": {}
  },
  {
   "cell_type": "code",
   "execution_count": null,
   "source": [
    "sns.pairplot(data, height=7,\n",
    "             hue='nutriscore_grade', \n",
    "             y_vars=['nutrition_score_100g'], \n",
    "             x_vars= data.select_dtypes(include=float).columns)"
   ],
   "outputs": [],
   "metadata": {}
  },
  {
   "cell_type": "markdown",
   "source": [
    "### Energy Analysis"
   ],
   "metadata": {}
  },
  {
   "cell_type": "markdown",
   "source": [
    "In this section I am interested in the columns of energy. First to compare the two dependent columns.  \n",
    "Then to compare with the most common categorical values and finally with the numerical variables."
   ],
   "metadata": {}
  },
  {
   "cell_type": "markdown",
   "source": [
    "#### energy_kcal_100g & energy_100g (kJ)"
   ],
   "metadata": {}
  },
  {
   "cell_type": "code",
   "execution_count": null,
   "source": [
    "sns.pairplot(data, height=7,\n",
    "             hue='nutriscore_grade', \n",
    "             y_vars=['energy_100g'], \n",
    "             x_vars= ['energy_kcal_100g'])"
   ],
   "outputs": [],
   "metadata": {}
  },
  {
   "cell_type": "markdown",
   "source": [
    "These two columns describe the same information in different units (kJ and kcal) and are therefore not independent.  \n",
    "We know that 1kJ = 0.2389kcal\n",
    "The data should be proportional and end up on the diagonal of the graph, however we see that the data also aligns on a second axis, closer to the kcal axis.\n",
    "This means that some data has equal value in both columns and the problem may comes from the column in kJ.  \n",
    "Scattered dots may reflect an error in data entry"
   ],
   "metadata": {}
  },
  {
   "cell_type": "code",
   "execution_count": null,
   "source": [
    "# convert value from kJ to kcal where value in kcal is 0\n",
    "null_kcal_id = data[(data['energy_100g']>0) & (data['energy_kcal_100g']==0)].index\n",
    "data.loc[null_kcal_id, 'energy_kcal_100g'] = data.loc[null_kcal_id, 'energy_100g'] * 0.2389 "
   ],
   "outputs": [],
   "metadata": {}
  },
  {
   "cell_type": "markdown",
   "source": [
    "After using the kJ values to assign a kcal value where there was 0 we can delete the column 'energy_100g'"
   ],
   "metadata": {}
  },
  {
   "cell_type": "code",
   "execution_count": null,
   "source": [
    "data.drop(columns='energy_100g', inplace=True)"
   ],
   "outputs": [],
   "metadata": {}
  },
  {
   "cell_type": "markdown",
   "source": [
    "#### Energy by most common ingredients"
   ],
   "metadata": {}
  },
  {
   "cell_type": "code",
   "execution_count": null,
   "source": [
    "top_ingredients_grouped['energy_100g'].describe().sort_values(by='mean',ascending=True)"
   ],
   "outputs": [],
   "metadata": {}
  },
  {
   "cell_type": "code",
   "execution_count": null,
   "source": [
    "fig, ax = plt.subplots(figsize=(12,7))\n",
    "sns.boxplot(x=\"energy_100g\", y=\"ingredients_exp\", \n",
    "            data=ingredients_filtered, \n",
    "            ax=ax, \n",
    "            linewidth=1.5, \n",
    "            showmeans=True, \n",
    "            meanprops={\"marker\":\"x\", \"markeredgecolor\":\"black\"})"
   ],
   "outputs": [],
   "metadata": {}
  },
  {
   "cell_type": "markdown",
   "source": [
    "#### Energy by most common categories"
   ],
   "metadata": {}
  },
  {
   "cell_type": "code",
   "execution_count": null,
   "source": [
    "top_categories_grouped['energy_100g'].describe().sort_values(by='mean',ascending=True)"
   ],
   "outputs": [],
   "metadata": {}
  },
  {
   "cell_type": "code",
   "execution_count": null,
   "source": [
    "fig, ax = plt.subplots(figsize=(12,7))\n",
    "sns.boxplot(x=\"energy_kcal_100g\", y=\"categories_exp\", \n",
    "            data=categories_filtered, \n",
    "            ax=ax, \n",
    "            linewidth=1.5, \n",
    "            showmeans=True, \n",
    "            meanprops={\"marker\":\"x\", \"markeredgecolor\":\"black\"})"
   ],
   "outputs": [],
   "metadata": {}
  },
  {
   "cell_type": "markdown",
   "source": [
    "**The energy values are widely dispersed in each category, which will be useful to offer several products according to user needs.**"
   ],
   "metadata": {}
  },
  {
   "cell_type": "markdown",
   "source": [
    "#### Relationships with other num features"
   ],
   "metadata": {}
  },
  {
   "cell_type": "code",
   "execution_count": null,
   "source": [
    "sns.pairplot(data, height=7,\n",
    "             hue='nutriscore_grade', \n",
    "             y_vars=['energy_kcal_100g'], \n",
    "             x_vars= data.select_dtypes(include=float).columns)"
   ],
   "outputs": [],
   "metadata": {}
  },
  {
   "cell_type": "markdown",
   "source": [
    "## Correlations"
   ],
   "metadata": {}
  },
  {
   "cell_type": "code",
   "execution_count": null,
   "source": [
    "corr = data.corr(method = \"pearson\")\n",
    "corr"
   ],
   "outputs": [],
   "metadata": {}
  },
  {
   "cell_type": "code",
   "execution_count": null,
   "source": [
    "f, ax = plt.subplots(figsize=(10, 10))\n",
    "sns.heatmap(corr, mask=np.zeros_like(corr, dtype=np.bool), \n",
    "            cmap=sns.diverging_palette(220, 10, as_cmap=True),\n",
    "            square=True, ax=ax)"
   ],
   "outputs": [],
   "metadata": {}
  },
  {
   "cell_type": "code",
   "execution_count": null,
   "source": [
    "# Source: https://code.i-harness.com/en/q/10f46da\n",
    "def get_redundant_pairs(df):\n",
    "    '''Get diagonal and lower triangular pairs of correlation matrix'''\n",
    "    pairs_to_drop = set()\n",
    "    cols = df.columns\n",
    "    for i in range(0, df.shape[1]):\n",
    "        for j in range(0, i+1):\n",
    "            pairs_to_drop.add((cols[i], cols[j]))\n",
    "    return pairs_to_drop\n",
    "\n",
    "def get_top_abs_correlations(df, n=5):\n",
    "    au_corr = df.corr().abs().unstack()\n",
    "    labels_to_drop = get_redundant_pairs(df)\n",
    "    au_corr = au_corr.drop(labels=labels_to_drop).sort_values(ascending=False)\n",
    "    return au_corr[0:n]"
   ],
   "outputs": [],
   "metadata": {}
  },
  {
   "cell_type": "code",
   "execution_count": null,
   "source": [
    "print('The top 10 Correlations between variables are: \\n{}'.format(get_top_abs_correlations(data.select_dtypes(include=float), n=10)))"
   ],
   "outputs": [],
   "metadata": {}
  },
  {
   "cell_type": "markdown",
   "source": [
    "## Statistical Tests"
   ],
   "metadata": {}
  },
  {
   "cell_type": "markdown",
   "source": [
    "To be able to use parametric tests, my data must validate certain conditions, so I started by performing a normality test"
   ],
   "metadata": {}
  },
  {
   "cell_type": "markdown",
   "source": [
    "### D'Agostino's K² Normality Test"
   ],
   "metadata": {}
  },
  {
   "cell_type": "markdown",
   "source": [
    "H0: the sample has a Gaussian distribution.  \n",
    "H1: the sample does not have a Gaussian distribution."
   ],
   "metadata": {}
  },
  {
   "cell_type": "code",
   "execution_count": null,
   "source": [
    "from scipy.stats import normaltest\n",
    "num_data = data.select_dtypes(include=float)\n",
    "for col in num_data.columns:\n",
    "    stat, p = normaltest(data[col])\n",
    "    #print('K²=%.3f, p=%.3f' % (stat, p))\n",
    "    if p > 0.01:\n",
    "        print('{} : K²={:.3f}; p={:.3f} - Not reject H0 : Feature probably Gaussian\\n'.format(col, stat, p))\n",
    "    else:\n",
    "        print('{} : K²={:.3f}; p={:.3f} - Reject H0\\n'.format(col, stat, p))"
   ],
   "outputs": [],
   "metadata": {}
  },
  {
   "cell_type": "markdown",
   "source": [
    "**As the p-value is lower than the significance level alpha=0.01, we can reject H0 and consider that the columns are not normally distributed**"
   ],
   "metadata": {}
  },
  {
   "cell_type": "markdown",
   "source": [
    "These features are not normaly distributed and don't have the same variance so I'm gonna use non parametric tests"
   ],
   "metadata": {}
  },
  {
   "cell_type": "markdown",
   "source": [
    "### Spearman's correlation test"
   ],
   "metadata": {}
  },
  {
   "cell_type": "markdown",
   "source": [
    "Then I test the dependence between the salt and sodium columns with a Spearman's correlation test"
   ],
   "metadata": {}
  },
  {
   "cell_type": "code",
   "execution_count": null,
   "source": [
    "data[['salt_100g', 'sodium_100g']].describe()"
   ],
   "outputs": [],
   "metadata": {}
  },
  {
   "cell_type": "code",
   "execution_count": null,
   "source": [
    "data[['salt_100g', 'sodium_100g']].hist(figsize=(5,3))"
   ],
   "outputs": [],
   "metadata": {}
  },
  {
   "cell_type": "code",
   "execution_count": null,
   "source": [
    "sns.pairplot(data, height=5,\n",
    "             y_vars=['salt_100g'], \n",
    "             x_vars=['sodium_100g'])"
   ],
   "outputs": [],
   "metadata": {}
  },
  {
   "cell_type": "markdown",
   "source": [
    "H0: the two features are independent.  \n",
    "H1: there is a dependency between the features."
   ],
   "metadata": {}
  },
  {
   "cell_type": "code",
   "execution_count": null,
   "source": [
    "from scipy.stats import spearmanr\n",
    "stat, p = spearmanr(data['salt_100g'], data['sodium_100g'])\n",
    "print('r=%.3f, p=%.3f' % (stat, p))\n",
    "if p > 0.01:\n",
    "\tprint('Not reject H0 : Probably independent')\n",
    "else:\n",
    "\tprint('Reject H0 : Probably dependent')"
   ],
   "outputs": [],
   "metadata": {}
  },
  {
   "cell_type": "markdown",
   "source": [
    "**As the p-value is lower than the significance level alpha=0.01, we can reject H0 and consider that 'sodium_100g' and 'salt_100g' are dependant**  "
   ],
   "metadata": {}
  },
  {
   "cell_type": "code",
   "execution_count": null,
   "source": [
    "# So we can drop one of these columns.\n",
    "# data.drop(columns=['sodium_100g'], inplace=True)"
   ],
   "outputs": [],
   "metadata": {}
  },
  {
   "cell_type": "markdown",
   "source": [
    "### Chi² correlation test"
   ],
   "metadata": {}
  },
  {
   "cell_type": "markdown",
   "source": [
    "Then I tested the dependence between nutrition_score_100g and nutriscore_grade"
   ],
   "metadata": {}
  },
  {
   "cell_type": "code",
   "execution_count": null,
   "source": [
    "# correlation ratio used in ANOVA equivalent to R²\n",
    "def eta_squared(x,y):\n",
    "    mean_y = y.mean()\n",
    "    classes = []\n",
    "    for classe in x.unique():\n",
    "        yi_classe = y[x==classe]\n",
    "        classes.append({'ni': len(yi_classe),\n",
    "                        'mean_classe': yi_classe.mean()})\n",
    "    SCT = sum([(yj-mean_y)**2 for yj in y])\n",
    "    SCE = sum([c['ni']*(c['mean_classe']-mean_y)**2 for c in classes])\n",
    "    return SCE/SCT\n",
    "    \n",
    "eta_squared(data['nutriscore_grade'], data['nutrition_score_100g'])"
   ],
   "outputs": [],
   "metadata": {}
  },
  {
   "cell_type": "markdown",
   "source": [
    "**As the correlation ratio eta² is close to 1 we can assume there is a high correlation between these features**"
   ],
   "metadata": {}
  },
  {
   "cell_type": "markdown",
   "source": [
    "H0: the two samples are independent.  \n",
    "H1: there is a dependency between the samples"
   ],
   "metadata": {}
  },
  {
   "cell_type": "code",
   "execution_count": null,
   "source": [
    "cont = data[['nutrition_score_100g', 'nutriscore_grade']].pivot_table(index='nutrition_score_100g', columns=\"nutriscore_grade\", aggfunc=len).fillna(0).copy().astype(int)\n",
    "cont.head(10)"
   ],
   "outputs": [],
   "metadata": {}
  },
  {
   "cell_type": "code",
   "execution_count": null,
   "source": [
    "from scipy.stats import chi2_contingency\n",
    "stat, p, dof, expected = chi2_contingency(cont)\n",
    "print('chi²=%.3f, p=%.3f' % (stat, p))\n",
    "if p > 0.01:\n",
    "\tprint('Probably independent')\n",
    "else:\n",
    "\tprint('Probably dependent')"
   ],
   "outputs": [],
   "metadata": {}
  },
  {
   "cell_type": "markdown",
   "source": [
    "**As the p-value is lower than the significance level alpha=0.01, we can reject H0 and consider that 'nutrition_score_100g' and 'nutriscore_grade' are dependant**  "
   ],
   "metadata": {}
  },
  {
   "cell_type": "markdown",
   "source": [
    "### Kruskal-Wallis H Test"
   ],
   "metadata": {}
  },
  {
   "cell_type": "markdown",
   "source": [
    "As I decided to accept their dependence, I then looked at the values of the nutriscore for each grade in order to check if they are indeed an aggregation of the values of the nutriscore"
   ],
   "metadata": {}
  },
  {
   "cell_type": "code",
   "execution_count": null,
   "source": [
    "from scipy.stats import kruskal\n",
    "stat, p = kruskal(data['nutrition_score_100g'][data['nutriscore_grade']=='a'],\n",
    "                   data['nutrition_score_100g'][data['nutriscore_grade']=='b'],\n",
    "                   data['nutrition_score_100g'][data['nutriscore_grade']=='a'],\n",
    "                   data['nutrition_score_100g'][data['nutriscore_grade']=='d'],\n",
    "                   data['nutrition_score_100g'][data['nutriscore_grade']=='e'])\n",
    "print('H=%.3f, p=%.3f' % (stat, p))\n",
    "if p > 0.01:\n",
    "\tprint('Probably the same distribution')\n",
    "else:\n",
    "\tprint('Probably different distributions')"
   ],
   "outputs": [],
   "metadata": {}
  },
  {
   "cell_type": "markdown",
   "source": [
    "**As the p-value is lower than the significance level alpha=0.01, we can reject H0 and consider there is a statistically significant difference between the groups**"
   ],
   "metadata": {}
  },
  {
   "cell_type": "markdown",
   "source": [
    "The grades are quite distinct, so I can use it as a dependency variable to predict in possible classification machine learning models"
   ],
   "metadata": {}
  },
  {
   "cell_type": "markdown",
   "source": [
    "## PCA"
   ],
   "metadata": {}
  },
  {
   "cell_type": "code",
   "execution_count": null,
   "source": [
    "from sklearn import preprocessing\n",
    "num_data = data.select_dtypes(include=float)\n",
    "# feature scaling : standardisation\n",
    "std_scale = preprocessing.StandardScaler().fit(num_data)\n",
    "X_scaled = std_scale.transform(num_data)"
   ],
   "outputs": [],
   "metadata": {}
  },
  {
   "cell_type": "code",
   "execution_count": null,
   "source": [
    "# Number of components to keep \n",
    "n_components = min(num_data.shape[0], num_data.shape[1])"
   ],
   "outputs": [],
   "metadata": {}
  },
  {
   "cell_type": "code",
   "execution_count": null,
   "source": [
    "# Calcul des composantes principales\n",
    "from sklearn import decomposition\n",
    "pca = decomposition.PCA(n_components=n_components)\n",
    "X_projected = pca.fit_transform(X_scaled)"
   ],
   "outputs": [],
   "metadata": {}
  },
  {
   "cell_type": "code",
   "execution_count": null,
   "source": [
    "# explained variance for each component\n",
    "print(pca.explained_variance_ratio_)\n",
    "# total\n",
    "print('{:.2f}'.format(pca.explained_variance_ratio_.sum()))"
   ],
   "outputs": [],
   "metadata": {}
  },
  {
   "cell_type": "code",
   "execution_count": null,
   "source": [
    "# Scree plot\n",
    "ind = np.arange(0, n_components)\n",
    "(fig, ax) = plt.subplots(figsize=(12,7))\n",
    "sns.pointplot(x=ind, y=pca.explained_variance_ratio_)\n",
    "ax.set_title('Scree plot', fontsize=16)\n",
    "ax.set_xticks(ind)\n",
    "ax.set_xticklabels(ind)\n",
    "ax.set_xlabel('Component Number')\n",
    "ax.set_ylabel('Explained Variance')\n",
    "plt.show()"
   ],
   "outputs": [],
   "metadata": {}
  },
  {
   "cell_type": "code",
   "execution_count": null,
   "source": [
    "fig, ax = plt.subplots(figsize=(12,7))\n",
    "plt.plot(np.arange(0, n_components), pca.explained_variance_ratio_.cumsum())\n",
    "sns.pointplot(x=ind, y=pca.explained_variance_ratio_.cumsum())\n",
    "ax.set_xticks(ind)\n",
    "ax.set_xticklabels(ind)\n",
    "plt.title(\"Explained variance vs. number of components\", fontsize=16)\n",
    "plt.ylabel(\"Cumsum explained variance ratio\")\n",
    "plt.xlabel(\"Factor number\")\n",
    "plt.show()"
   ],
   "outputs": [],
   "metadata": {}
  },
  {
   "cell_type": "markdown",
   "source": [
    "We can reduce the dataset to 5 features which explain 90% of the variance of the data"
   ],
   "metadata": {}
  },
  {
   "cell_type": "markdown",
   "source": [
    "### Projections on the first factorial plane"
   ],
   "metadata": {}
  },
  {
   "cell_type": "code",
   "execution_count": null,
   "source": [
    "# Correlation circle\n",
    "pcs = pca.components_\n",
    "plt.figure(figsize=(10,10))\n",
    "for i, (x, y) in enumerate(zip(pcs[0, :], pcs[1, :])):\n",
    "    plt.plot([0, x], [0, y], color='k')\n",
    "    plt.text(x, y, num_data.columns[i], fontsize='14')\n",
    "x_lim = 1.1\n",
    "y_lim = 1.1\n",
    "plt.plot([-x_lim, x_lim], [0, 0], color='grey', ls='--')\n",
    "plt.plot([0, 0], [-y_lim, y_lim], color='grey', ls='--')\n",
    "# Add a unit circle for scale\n",
    "an = np.linspace(0, 2 * np.pi, 100)\n",
    "plt.plot(np.cos(an), np.sin(an))  \n",
    "plt.xlim([-x_lim, x_lim])\n",
    "plt.ylim([-y_lim, y_lim])\n",
    "plt.xlabel(\"PC1 : {:.2f}%\".format(pca.explained_variance_ratio_[0]*100), fontsize=14)\n",
    "plt.ylabel(\"PC2 : {:.2f}%\".format(pca.explained_variance_ratio_[1]*100), fontsize=14)\n",
    "plt.title('Correlation Circle', fontsize=16)\n",
    "plt.show()"
   ],
   "outputs": [],
   "metadata": {}
  },
  {
   "cell_type": "code",
   "execution_count": null,
   "source": [
    "# data projection on the first two components colored by nutrition_score_100g\n",
    "plt.figure(figsize=(15,7))\n",
    "plt.scatter(X_projected[:, 0], X_projected[:, 1],\n",
    "    c=data.get('nutrition_score_100g'))\n",
    "x_lim = 7.5\n",
    "y_lim = 6\n",
    "plt.plot([-x_lim, x_lim], [0, 0], color='grey', ls='--')\n",
    "plt.plot([0, 0], [-y_lim, y_lim], color='grey', ls='--')\n",
    "plt.xlim([-x_lim, x_lim])\n",
    "plt.ylim([-y_lim, y_lim])\n",
    "plt.xlabel(\"PC1 : {:.2f}%\".format(pca.explained_variance_ratio_[0]*100), fontsize=14)\n",
    "plt.ylabel(\"PC2 : {:.2f}%\".format(pca.explained_variance_ratio_[1]*100), fontsize=14)\n",
    "plt.title('Projection on the first two components, colored by nutrition_score_100g', fontsize=16)\n",
    "plt.colorbar()"
   ],
   "outputs": [],
   "metadata": {}
  },
  {
   "cell_type": "markdown",
   "source": [
    "### Projections on the 2nd factorial plane"
   ],
   "metadata": {}
  },
  {
   "cell_type": "code",
   "execution_count": null,
   "source": [
    "# Correlation circle\n",
    "pcs = pca.components_\n",
    "plt.figure(figsize=(10,10))\n",
    "for i, (x, y) in enumerate(zip(pcs[2, :], pcs[3, :])):\n",
    "    plt.plot([0, x], [0, y], color='k')\n",
    "    plt.text(x, y, num_data.columns[i], fontsize='14')\n",
    "\n",
    "x_lim = 1.1\n",
    "y_lim = 1.1\n",
    "plt.plot([-x_lim, x_lim], [0, 0], color='grey', ls='--')\n",
    "plt.plot([0, 0], [-y_lim, y_lim], color='grey', ls='--')\n",
    "# Add a unit circle for scale\n",
    "an = np.linspace(0, 2 * np.pi, 100)\n",
    "plt.plot(np.cos(an), np.sin(an))  \n",
    "plt.xlim([-x_lim, x_lim])\n",
    "plt.ylim([-y_lim, y_lim])\n",
    "plt.xlabel(\"PC3 : {:.2f}%\".format(pca.explained_variance_ratio_[0]*100), fontsize=14)\n",
    "plt.ylabel(\"PC4 : {:.2f}%\".format(pca.explained_variance_ratio_[1]*100), fontsize=14)\n",
    "plt.title('Correlation Circle', fontsize=16)\n",
    "plt.show()"
   ],
   "outputs": [],
   "metadata": {}
  },
  {
   "cell_type": "code",
   "execution_count": null,
   "source": [
    "# data projection on the 3th and 4th components colored by nutrition_score_100g\n",
    "plt.figure(figsize=(10,7))\n",
    "plt.scatter(X_projected[:, 2], X_projected[:, 3],\n",
    "    c=data.get('fiber_100g'))\n",
    "x_lim = 6\n",
    "y_lim = 6\n",
    "plt.plot([-x_lim, x_lim], [0, 0], color='grey', ls='--')\n",
    "plt.plot([0, 0], [-y_lim, y_lim], color='grey', ls='--')\n",
    "plt.xlim([-x_lim, x_lim])\n",
    "plt.ylim([-y_lim, y_lim])\n",
    "plt.xlabel(\"PC3 : {:.2f}%\".format(pca.explained_variance_ratio_[2]*100), fontsize=14)\n",
    "plt.ylabel(\"PC4 : {:.2f}%\".format(pca.explained_variance_ratio_[3]*100), fontsize=14)\n",
    "plt.title('Projection on the 3th and 4th components colored by fiber_100g', fontsize=16)\n",
    "plt.colorbar()"
   ],
   "outputs": [],
   "metadata": {}
  }
 ],
 "metadata": {
  "kernelspec": {
   "display_name": "Python 3",
   "language": "python",
   "name": "python3"
  },
  "language_info": {
   "codemirror_mode": {
    "name": "ipython",
    "version": 3
   },
   "file_extension": ".py",
   "mimetype": "text/x-python",
   "name": "python",
   "nbconvert_exporter": "python",
   "pygments_lexer": "ipython3",
   "version": "3.8.8"
  },
  "toc-autonumbering": true,
  "toc-showcode": false,
  "toc-showtags": false
 },
 "nbformat": 4,
 "nbformat_minor": 4
}